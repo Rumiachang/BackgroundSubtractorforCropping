{
 "cells": [
  {
   "cell_type": "code",
   "execution_count": 9,
   "metadata": {},
   "outputs": [],
   "source": [
    "import cv2\n",
    "import numpy as np\n",
    "#import os\n",
    "\n",
    "# Define const.\n",
    "ESC_KEY = 27     # Esc\n",
    "INTERVAL= 33     # delay\n",
    "\n",
    "WINDOW_ORG = \"org\"\n",
    "WINDOW_BACK = \"back\"\n",
    "WINDOW_DIFF = \"diff\"\n",
    "WINDOW_CROPPED = \"crpd\"\n",
    "image_dir='./image_dir/'\n",
    "image_file='img_%s.png'\n",
    "FILE_ORG = \"macaque1.mp4\" #Video file name\n",
    "\n",
    "#Prepare the windows\n",
    "cv2.namedWindow(WINDOW_ORG)\n",
    "cv2.namedWindow(WINDOW_DIFF)\n",
    "cv2.namedWindow(WINDOW_CROPPED)\n",
    "fgbg = cv2.bgsegm.createBackgroundSubtractorGMG()\n",
    "kernel = cv2.getStructuringElement(cv2.MORPH_ELLIPSE,(3,3))\n",
    "# Read the org video\n",
    "mov_org = cv2.VideoCapture(FILE_ORG)\n",
    "\n",
    "# Read the first frame\n",
    "has_next, i_frame = mov_org.read()\n",
    "\n",
    "i = 0\n",
    "# Looping of BackgroundSubtractor \n",
    "while has_next == True:\n",
    "   \n",
    "    diff_frame = fgbg.apply(i_frame)\n",
    "    diff_frame = cv2.morphologyEx(diff_frame, cv2.MORPH_OPEN, kernel)\n",
    "   \n",
    "    thresh = cv2.threshold(diff_frame, 10, 255, cv2.THRESH_BINARY)[1]\n",
    "    contours = cv2.findContours(thresh.copy(), cv2.RETR_EXTERNAL, cv2.CHAIN_APPROX_SIMPLE)[1]\n",
    "    \n",
    "    j = 0\n",
    "    for pt in contours:\n",
    "        x,y,w,h = cv2.boundingRect(pt)\n",
    "        if w < 100: continue\n",
    "        if x < 20 or y < 20:\n",
    "            #cv2.rectangle(i_frame, (x, y), (x+w, y+h),(0, 255, 0), 3)\n",
    "            crpd_i_frame = i_frame[y:y+h,x:x+w]\n",
    "            cv2.imshow(WINDOW_CROPPED, crpd_i_frame)\n",
    "            cv2.imwrite(image_dir+str(j)+image_file % str(i).zfill(6), crpd_i_frame)\n",
    "            j+=1\n",
    "        else:\n",
    "            crpd_i_frame = i_frame[y-20:y+h+20,x-20:x+w+20]\n",
    "            cv2.imshow(WINDOW_CROPPED, crpd_i_frame)\n",
    "            cv2.imwrite(image_dir+str(j)+image_file % str(i).zfill(6), crpd_i_frame)\n",
    "            j+=1\n",
    "                    \n",
    "        \n",
    "    cv2.imshow(WINDOW_ORG, i_frame)\n",
    "   \n",
    "    cv2.imshow(WINDOW_DIFF, diff_frame.astype(np.uint8))\n",
    "   \n",
    "    i+=1\n",
    "    # Finish when Esc key interrupts\n",
    "    key = cv2.waitKey(INTERVAL)\n",
    "    if key == ESC_KEY:\n",
    "        break\n",
    "\n",
    "    # Read the next frame\n",
    "    has_next, i_frame = mov_org.read()\n",
    "\n",
    "# Ending process\n",
    "cv2.destroyAllWindows()\n",
    "mov_org.release()"
   ]
  },
  {
   "cell_type": "code",
   "execution_count": null,
   "metadata": {
    "collapsed": true
   },
   "outputs": [],
   "source": []
  },
  {
   "cell_type": "code",
   "execution_count": null,
   "metadata": {
    "collapsed": true
   },
   "outputs": [],
   "source": []
  }
 ],
 "metadata": {
  "kernelspec": {
   "display_name": "Python 3",
   "language": "python",
   "name": "python3"
  },
  "language_info": {
   "codemirror_mode": {
    "name": "ipython",
    "version": 3
   },
   "file_extension": ".py",
   "mimetype": "text/x-python",
   "name": "python",
   "nbconvert_exporter": "python",
   "pygments_lexer": "ipython3",
   "version": "3.5.4"
  }
 },
 "nbformat": 4,
 "nbformat_minor": 2
}
